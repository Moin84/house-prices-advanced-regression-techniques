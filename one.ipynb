{
 "cells": [
  {
   "cell_type": "code",
   "execution_count": 177,
   "metadata": {},
   "outputs": [],
   "source": [
    "import pandas as pd\n",
    "\n",
    "train_data = pd.read_csv(\"train.csv\")\n",
    "test_data = pd.read_csv(\"test.csv\")\n",
    "test_x = test_data.copy()\n",
    "\n",
    "train_y = train_data[\"SalePrice\"]\n",
    "train_data.drop(columns=[\"SalePrice\", \"Id\"], inplace=True)\n",
    "test_data.drop(columns=[\"Id\"], inplace=True)"
   ]
  },
  {
   "cell_type": "code",
   "execution_count": 178,
   "metadata": {},
   "outputs": [],
   "source": [
    "## Splitting categorical and numerical values\n",
    "ob_cols_tr = train_data.select_dtypes(include='object').columns\n",
    "num_cols_tr = train_data.select_dtypes(include='number').columns\n",
    "\n",
    "ob_cols_te = test_data.select_dtypes(include='object').columns\n",
    "num_cols_te = test_data.select_dtypes(include='number').columns\n",
    "\n",
    "## trian data after splitting\n",
    "ob_tr = pd.DataFrame(train_data[ob_cols_tr])\n",
    "num_tr = pd.DataFrame(train_data[num_cols_tr])\n",
    "\n",
    "## test data after splitting\n",
    "ob_te = pd.DataFrame(test_data[ob_cols_te])\n",
    "num_te = pd.DataFrame(test_data[num_cols_te])"
   ]
  },
  {
   "cell_type": "code",
   "execution_count": 179,
   "metadata": {},
   "outputs": [],
   "source": [
    "## imputing missing values of number values\n",
    "from sklearn.impute import SimpleImputer\n",
    "\n",
    "imp = SimpleImputer()\n",
    "imp_tr = pd.DataFrame(imp.fit_transform(num_tr))\n",
    "imp_te = pd.DataFrame(imp.transform(num_te))\n",
    "\n",
    "imp_tr.columns = num_tr.columns\n",
    "imp_te.columns = num_te.columns"
   ]
  },
  {
   "cell_type": "code",
   "execution_count": 180,
   "metadata": {},
   "outputs": [],
   "source": [
    "## encoding categrical values\n",
    "from sklearn.preprocessing import OrdinalEncoder\n",
    "\n",
    "# replacing null values with 'Nothing'\n",
    "ob_tr.fillna('Nothing', inplace=True)\n",
    "ob_te.fillna('Nothing', inplace=True)\n",
    "\n",
    "# combining train and test, because 'Nothing' won't be found in train data\n",
    "con_tre = pd.concat([ob_tr, ob_te], axis=0)\n",
    "\n",
    "enc = OrdinalEncoder()\n",
    "enc_tre = pd.DataFrame(enc.fit_transform(con_tre)) # encoding together\n",
    "\n",
    "# splitting\n",
    "# enc_tr = enc_tre[:len(ob_tr)]\n",
    "# enc_te = enc_tre[len(ob_tr):]\n",
    "\n",
    "enc_tr = pd.DataFrame(enc_tre.iloc[:len(ob_tr)])\n",
    "enc_te = pd.DataFrame(enc_tre.iloc[len(ob_tr):])\n",
    "enc_te.reset_index(drop=True, inplace=True)\n",
    "\n",
    "enc_tr.columns = ob_tr.columns\n",
    "enc_te.columns = ob_te.columns"
   ]
  },
  {
   "cell_type": "code",
   "execution_count": 181,
   "metadata": {},
   "outputs": [],
   "source": [
    "## combining numerical and categorical data\n",
    "data_tr = pd.concat([imp_tr, enc_tr], axis=1)\n",
    "data_te = pd.concat([imp_te, enc_te], axis=1)"
   ]
  },
  {
   "cell_type": "code",
   "execution_count": 182,
   "metadata": {},
   "outputs": [],
   "source": [
    "from xgboost import XGBRegressor\n",
    "\n",
    "# regression\n",
    "model = XGBRegressor(n_estimators=1000, learning_rate=0.05)\n",
    "model.fit(data_tr, train_y, verbose=False)\n",
    "predictions = model.predict(data_te)\n",
    "\n",
    "# printing output to the file\n",
    "output = pd.DataFrame({\"Id\": test_x[\"Id\"], \"SalePrice\": predictions})\n",
    "output.to_csv(\"submission.csv\", index=False)"
   ]
  }
 ],
 "metadata": {
  "kernelspec": {
   "display_name": "Python 3",
   "language": "python",
   "name": "python3"
  },
  "language_info": {
   "codemirror_mode": {
    "name": "ipython",
    "version": 3
   },
   "file_extension": ".py",
   "mimetype": "text/x-python",
   "name": "python",
   "nbconvert_exporter": "python",
   "pygments_lexer": "ipython3",
   "version": "3.12.4"
  }
 },
 "nbformat": 4,
 "nbformat_minor": 2
}
